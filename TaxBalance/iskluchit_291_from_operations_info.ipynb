{
 "cells": [
  {
   "cell_type": "markdown",
   "source": [
    "Информация для Марины Р. для подготовки жалоб на исключение восстановленных долгов из операций по лицевому счету налогплательщика"
   ],
   "metadata": {
    "collapsed": false
   }
  },
  {
   "cell_type": "code",
   "execution_count": 35,
   "outputs": [
    {
     "name": "stderr",
     "output_type": "stream",
     "text": [
      "/Users/maksimtunev/PycharmProjects/balanceTax/venv/lib/python3.8/site-packages/openpyxl/styles/stylesheet.py:226: UserWarning: Workbook contains no default style, apply openpyxl's default\n",
      "  warn(\"Workbook contains no default style, apply openpyxl's default\")\n",
      "2023-04-14 12:23:36 INFO:Загрузка файла завершена. В платежах содержится 65 операций.\n",
      "2023-04-14 12:23:36 INFO:Загрузка файла завершена. В платежах содержится 326 операций.\n",
      "/Users/maksimtunev/PycharmProjects/balanceTax/venv/lib/python3.8/site-packages/openpyxl/styles/stylesheet.py:226: UserWarning: Workbook contains no default style, apply openpyxl's default\n",
      "  warn(\"Workbook contains no default style, apply openpyxl's default\")\n",
      "2023-04-14 12:23:37 INFO:Загрузка файла завершена. В платежах содержится 637 операций.\n",
      "2023-04-14 12:23:39 INFO:Загрузка файла завершена. В балансе содержится 816 операций.\n",
      "2023-04-14 12:23:41 INFO:Загрузка файла завершена. В балансе содержится 1729 операций.\n",
      "2023-04-14 12:23:42 INFO:Загрузка файла завершена. В балансе содержится 2493 операций.\n"
     ]
    }
   ],
   "source": [
    "import logging\n",
    "from importlib import reload\n",
    "\n",
    "import pandas as pd\n",
    "\n",
    "import import_excel\n",
    "import views\n",
    "\n",
    "reload(logging)\n",
    "reload(import_excel)\n",
    "reload(views)\n",
    "\n",
    "logging.basicConfig(level=logging.INFO,\n",
    "                    format='%(asctime)s %(levelname)s:%(message)s',\n",
    "                    datefmt='%Y-%m-%d %H:%M:%S')\n",
    "pd.set_option('display.max_rows', 1000)\n",
    "\n",
    "view = views.UFNSView()"
   ],
   "metadata": {
    "collapsed": false
   }
  },
  {
   "cell_type": "code",
   "execution_count": 36,
   "outputs": [],
   "source": [
    "# Выгружаем все операции за 29.09.22 (когда произошло восстановление)\n",
    "\n",
    "import pandas as pd\n",
    "\n",
    "# Read the data from the source\n",
    "df = view.df\n",
    "\n",
    "# Create a mask to filter operations on the given date with no credit\n",
    "mask = (df.operation_date == pd.to_datetime('2022-09-22').date()) & (df.credit == 0)\n",
    "\n",
    "# Apply the mask to filter the DataFrame\n",
    "df = df[mask]\n",
    "\n",
    "# Define the desired columns and their order\n",
    "columns = view.COLUMNS_READABLE\n",
    "columns.extend(['balance_by_type', 'balance_by_tax'])\n",
    "\n",
    "# Apply the desired columns, sort the DataFrame, and reset the index\n",
    "df = df[columns].sort_values(by=['tax', 'payment_type']).reset_index(drop=True)\n",
    "\n",
    "# Convert column names to Russian and apply custom order\n",
    "columns = ['Дата Операции', 'Налог', 'Вид платежа', 'Операция', 'Дебет', 'Документ: Номер', 'Срок уплаты',\n",
    "           'Баланс по виду платежа', 'Баланс по карточке', ]\n",
    "df = view.to_russian(df)[columns]\n",
    "\n",
    "# Save the DataFrame to an Excel file\n",
    "with pd.ExcelWriter(\"Operations_of_22_09_2022.xlsx\") as writer:\n",
    "    df.to_excel(writer, index=True)"
   ],
   "metadata": {
    "collapsed": false
   }
  },
  {
   "cell_type": "code",
   "execution_count": 42,
   "outputs": [
    {
     "data": {
      "text/plain": "tax_period                                    2020-04-30  2020-05-31  \\\ntax                                                                    \nСтраховые - Доп. Тариф                              0.00        0.00   \nСтраховые - Нетрудоспособность и Материнство    44139.16    48316.08   \nСтраховые - ОМС                                  1527.09     1671.09   \nСтраховые - ПФР                                183245.72   200529.62   \n\ntax_period                                    2020-06-30  2020-07-31  \\\ntax                                                                    \nСтраховые - Доп. Тариф                              0.00        0.00   \nСтраховые - Нетрудоспособность и Материнство    40350.29    44802.53   \nСтраховые - ОМС                                  1413.13     1544.92   \nСтраховые - ПФР                                169571.04   185389.81   \n\ntax_period                                    2020-08-31  2020-09-30  \\\ntax                                                                    \nСтраховые - Доп. Тариф                              0.00        0.00   \nСтраховые - Нетрудоспособность и Материнство    37572.72    39824.06   \nСтраховые - ОМС                                  1330.67     1480.35   \nСтраховые - ПФР                                159680.33   167392.77   \n\ntax_period                                    2020-10-31  2020-11-30  \\\ntax                                                                    \nСтраховые - Доп. Тариф                              0.00        0.00   \nСтраховые - Нетрудоспособность и Материнство    41313.69    35324.86   \nСтраховые - ОМС                                  1638.02     1320.73   \nСтраховые - ПФР                                196561.49   158489.42   \n\ntax_period                                    2020-12-31  2021-01-31  ...  \\\ntax                                                                   ...   \nСтраховые - Доп. Тариф                              0.00        0.00  ...   \nСтраховые - Нетрудоспособность и Материнство    36978.51    42423.16  ...   \nСтраховые - ОМС                                  1388.57     1828.11  ...   \nСтраховые - ПФР                                166627.87   181162.29  ...   \n\ntax_period                                    2021-06-30  2021-07-31  \\\ntax                                                                    \nСтраховые - Доп. Тариф                              0.00        0.00   \nСтраховые - Нетрудоспособность и Материнство    40465.52    48647.57   \nСтраховые - ОМС                                  1584.83     1983.90   \nСтраховые - ПФР                                183693.70   206928.96   \n\ntax_period                                    2021-08-31  2021-09-30  \\\ntax                                                                    \nСтраховые - Доп. Тариф                              0.00        0.00   \nСтраховые - Нетрудоспособность и Материнство    36816.79    40148.70   \nСтраховые - ОМС                                  1389.22     1415.96   \nСтраховые - ПФР                                166707.34   169914.92   \n\ntax_period                                    2021-10-31  2021-11-30  \\\ntax                                                                    \nСтраховые - Доп. Тариф                              0.00        0.00   \nСтраховые - Нетрудоспособность и Материнство    36347.80    34610.06   \nСтраховые - ОМС                                  1244.00     1189.42   \nСтраховые - ПФР                                149280.49   142730.11   \n\ntax_period                                    2021-12-31  2022-01-31  \\\ntax                                                                    \nСтраховые - Доп. Тариф                              0.00        0.00   \nСтраховые - Нетрудоспособность и Материнство    34799.30    49372.02   \nСтраховые - ОМС                                  1192.72     1702.48   \nСтраховые - ПФР                                143126.06   204297.96   \n\ntax_period                                    2022-02-28  2022-03-31  \ntax                                                                   \nСтраховые - Доп. Тариф                              0.00        0.00  \nСтраховые - Нетрудоспособность и Материнство    33702.67    36077.33  \nСтраховые - ОМС                                  1117.16     1244.04  \nСтраховые - ПФР                                139359.32   149285.51  \n\n[4 rows x 24 columns]",
      "text/html": "<div>\n<style scoped>\n    .dataframe tbody tr th:only-of-type {\n        vertical-align: middle;\n    }\n\n    .dataframe tbody tr th {\n        vertical-align: top;\n    }\n\n    .dataframe thead th {\n        text-align: right;\n    }\n</style>\n<table border=\"1\" class=\"dataframe\">\n  <thead>\n    <tr style=\"text-align: right;\">\n      <th>tax_period</th>\n      <th>2020-04-30</th>\n      <th>2020-05-31</th>\n      <th>2020-06-30</th>\n      <th>2020-07-31</th>\n      <th>2020-08-31</th>\n      <th>2020-09-30</th>\n      <th>2020-10-31</th>\n      <th>2020-11-30</th>\n      <th>2020-12-31</th>\n      <th>2021-01-31</th>\n      <th>...</th>\n      <th>2021-06-30</th>\n      <th>2021-07-31</th>\n      <th>2021-08-31</th>\n      <th>2021-09-30</th>\n      <th>2021-10-31</th>\n      <th>2021-11-30</th>\n      <th>2021-12-31</th>\n      <th>2022-01-31</th>\n      <th>2022-02-28</th>\n      <th>2022-03-31</th>\n    </tr>\n    <tr>\n      <th>tax</th>\n      <th></th>\n      <th></th>\n      <th></th>\n      <th></th>\n      <th></th>\n      <th></th>\n      <th></th>\n      <th></th>\n      <th></th>\n      <th></th>\n      <th></th>\n      <th></th>\n      <th></th>\n      <th></th>\n      <th></th>\n      <th></th>\n      <th></th>\n      <th></th>\n      <th></th>\n      <th></th>\n      <th></th>\n    </tr>\n  </thead>\n  <tbody>\n    <tr>\n      <th>Страховые - Доп. Тариф</th>\n      <td>0.00</td>\n      <td>0.00</td>\n      <td>0.00</td>\n      <td>0.00</td>\n      <td>0.00</td>\n      <td>0.00</td>\n      <td>0.00</td>\n      <td>0.00</td>\n      <td>0.00</td>\n      <td>0.00</td>\n      <td>...</td>\n      <td>0.00</td>\n      <td>0.00</td>\n      <td>0.00</td>\n      <td>0.00</td>\n      <td>0.00</td>\n      <td>0.00</td>\n      <td>0.00</td>\n      <td>0.00</td>\n      <td>0.00</td>\n      <td>0.00</td>\n    </tr>\n    <tr>\n      <th>Страховые - Нетрудоспособность и Материнство</th>\n      <td>44139.16</td>\n      <td>48316.08</td>\n      <td>40350.29</td>\n      <td>44802.53</td>\n      <td>37572.72</td>\n      <td>39824.06</td>\n      <td>41313.69</td>\n      <td>35324.86</td>\n      <td>36978.51</td>\n      <td>42423.16</td>\n      <td>...</td>\n      <td>40465.52</td>\n      <td>48647.57</td>\n      <td>36816.79</td>\n      <td>40148.70</td>\n      <td>36347.80</td>\n      <td>34610.06</td>\n      <td>34799.30</td>\n      <td>49372.02</td>\n      <td>33702.67</td>\n      <td>36077.33</td>\n    </tr>\n    <tr>\n      <th>Страховые - ОМС</th>\n      <td>1527.09</td>\n      <td>1671.09</td>\n      <td>1413.13</td>\n      <td>1544.92</td>\n      <td>1330.67</td>\n      <td>1480.35</td>\n      <td>1638.02</td>\n      <td>1320.73</td>\n      <td>1388.57</td>\n      <td>1828.11</td>\n      <td>...</td>\n      <td>1584.83</td>\n      <td>1983.90</td>\n      <td>1389.22</td>\n      <td>1415.96</td>\n      <td>1244.00</td>\n      <td>1189.42</td>\n      <td>1192.72</td>\n      <td>1702.48</td>\n      <td>1117.16</td>\n      <td>1244.04</td>\n    </tr>\n    <tr>\n      <th>Страховые - ПФР</th>\n      <td>183245.72</td>\n      <td>200529.62</td>\n      <td>169571.04</td>\n      <td>185389.81</td>\n      <td>159680.33</td>\n      <td>167392.77</td>\n      <td>196561.49</td>\n      <td>158489.42</td>\n      <td>166627.87</td>\n      <td>181162.29</td>\n      <td>...</td>\n      <td>183693.70</td>\n      <td>206928.96</td>\n      <td>166707.34</td>\n      <td>169914.92</td>\n      <td>149280.49</td>\n      <td>142730.11</td>\n      <td>143126.06</td>\n      <td>204297.96</td>\n      <td>139359.32</td>\n      <td>149285.51</td>\n    </tr>\n  </tbody>\n</table>\n<p>4 rows × 24 columns</p>\n</div>"
     },
     "execution_count": 42,
     "metadata": {},
     "output_type": "execute_result"
    }
   ],
   "source": [
    "view.correction_sum()"
   ],
   "metadata": {
    "collapsed": false
   }
  },
  {
   "cell_type": "code",
   "execution_count": 43,
   "outputs": [
    {
     "data": {
      "text/plain": "tax_period                                    2020-04-30  2020-05-31  \\\ntax                                                                    \nСтраховые - Доп. Тариф                              0.00        0.00   \nСтраховые - Нетрудоспособность и Материнство    44139.16    48316.08   \nСтраховые - ОМС                                  1527.09     1671.09   \nСтраховые - ПФР                                183245.72   200529.62   \n\ntax_period                                    2020-06-30  2020-07-31  \\\ntax                                                                    \nСтраховые - Доп. Тариф                              0.00        0.00   \nСтраховые - Нетрудоспособность и Материнство    40350.29    44802.53   \nСтраховые - ОМС                                  1413.13     1544.92   \nСтраховые - ПФР                                169571.04   185389.81   \n\ntax_period                                    2020-08-31  2020-09-30  \\\ntax                                                                    \nСтраховые - Доп. Тариф                              0.00        0.00   \nСтраховые - Нетрудоспособность и Материнство    37572.72    39824.06   \nСтраховые - ОМС                                  1330.67     1480.35   \nСтраховые - ПФР                                159680.33   167392.77   \n\ntax_period                                    2020-10-31  2020-11-30  \\\ntax                                                                    \nСтраховые - Доп. Тариф                              0.00        0.00   \nСтраховые - Нетрудоспособность и Материнство    41313.69    35324.86   \nСтраховые - ОМС                                  1638.02     1320.73   \nСтраховые - ПФР                                196561.49   158489.42   \n\ntax_period                                    2020-12-31  2021-01-31  ...  \\\ntax                                                                   ...   \nСтраховые - Доп. Тариф                              0.00        0.00  ...   \nСтраховые - Нетрудоспособность и Материнство    36978.51    42423.16  ...   \nСтраховые - ОМС                                  1388.57     1828.11  ...   \nСтраховые - ПФР                                166627.87   181162.29  ...   \n\ntax_period                                    2021-06-30  2021-07-31  \\\ntax                                                                    \nСтраховые - Доп. Тариф                              0.00        0.00   \nСтраховые - Нетрудоспособность и Материнство    40465.52    48647.57   \nСтраховые - ОМС                                  1584.83     1983.90   \nСтраховые - ПФР                                183693.70   206928.96   \n\ntax_period                                    2021-08-31  2021-09-30  \\\ntax                                                                    \nСтраховые - Доп. Тариф                              0.00        0.00   \nСтраховые - Нетрудоспособность и Материнство    36816.79    40148.70   \nСтраховые - ОМС                                  1389.22     1415.96   \nСтраховые - ПФР                                166707.34   169914.92   \n\ntax_period                                    2021-10-31  2021-11-30  \\\ntax                                                                    \nСтраховые - Доп. Тариф                              0.00        0.00   \nСтраховые - Нетрудоспособность и Материнство    36347.80    34610.06   \nСтраховые - ОМС                                  1244.00     1189.42   \nСтраховые - ПФР                                149280.49   142730.11   \n\ntax_period                                    2021-12-31  2022-01-31  \\\ntax                                                                    \nСтраховые - Доп. Тариф                              0.00        0.00   \nСтраховые - Нетрудоспособность и Материнство    34799.30    49372.02   \nСтраховые - ОМС                                  1192.72     1702.48   \nСтраховые - ПФР                                143126.06   204297.96   \n\ntax_period                                    2022-02-28  2022-03-31  \ntax                                                                   \nСтраховые - Доп. Тариф                              0.00        0.00  \nСтраховые - Нетрудоспособность и Материнство    33702.67    36077.33  \nСтраховые - ОМС                                  1117.16     1244.04  \nСтраховые - ПФР                                139359.32   149285.51  \n\n[4 rows x 24 columns]",
      "text/html": "<div>\n<style scoped>\n    .dataframe tbody tr th:only-of-type {\n        vertical-align: middle;\n    }\n\n    .dataframe tbody tr th {\n        vertical-align: top;\n    }\n\n    .dataframe thead th {\n        text-align: right;\n    }\n</style>\n<table border=\"1\" class=\"dataframe\">\n  <thead>\n    <tr style=\"text-align: right;\">\n      <th>tax_period</th>\n      <th>2020-04-30</th>\n      <th>2020-05-31</th>\n      <th>2020-06-30</th>\n      <th>2020-07-31</th>\n      <th>2020-08-31</th>\n      <th>2020-09-30</th>\n      <th>2020-10-31</th>\n      <th>2020-11-30</th>\n      <th>2020-12-31</th>\n      <th>2021-01-31</th>\n      <th>...</th>\n      <th>2021-06-30</th>\n      <th>2021-07-31</th>\n      <th>2021-08-31</th>\n      <th>2021-09-30</th>\n      <th>2021-10-31</th>\n      <th>2021-11-30</th>\n      <th>2021-12-31</th>\n      <th>2022-01-31</th>\n      <th>2022-02-28</th>\n      <th>2022-03-31</th>\n    </tr>\n    <tr>\n      <th>tax</th>\n      <th></th>\n      <th></th>\n      <th></th>\n      <th></th>\n      <th></th>\n      <th></th>\n      <th></th>\n      <th></th>\n      <th></th>\n      <th></th>\n      <th></th>\n      <th></th>\n      <th></th>\n      <th></th>\n      <th></th>\n      <th></th>\n      <th></th>\n      <th></th>\n      <th></th>\n      <th></th>\n      <th></th>\n    </tr>\n  </thead>\n  <tbody>\n    <tr>\n      <th>Страховые - Доп. Тариф</th>\n      <td>0.00</td>\n      <td>0.00</td>\n      <td>0.00</td>\n      <td>0.00</td>\n      <td>0.00</td>\n      <td>0.00</td>\n      <td>0.00</td>\n      <td>0.00</td>\n      <td>0.00</td>\n      <td>0.00</td>\n      <td>...</td>\n      <td>0.00</td>\n      <td>0.00</td>\n      <td>0.00</td>\n      <td>0.00</td>\n      <td>0.00</td>\n      <td>0.00</td>\n      <td>0.00</td>\n      <td>0.00</td>\n      <td>0.00</td>\n      <td>0.00</td>\n    </tr>\n    <tr>\n      <th>Страховые - Нетрудоспособность и Материнство</th>\n      <td>44139.16</td>\n      <td>48316.08</td>\n      <td>40350.29</td>\n      <td>44802.53</td>\n      <td>37572.72</td>\n      <td>39824.06</td>\n      <td>41313.69</td>\n      <td>35324.86</td>\n      <td>36978.51</td>\n      <td>42423.16</td>\n      <td>...</td>\n      <td>40465.52</td>\n      <td>48647.57</td>\n      <td>36816.79</td>\n      <td>40148.70</td>\n      <td>36347.80</td>\n      <td>34610.06</td>\n      <td>34799.30</td>\n      <td>49372.02</td>\n      <td>33702.67</td>\n      <td>36077.33</td>\n    </tr>\n    <tr>\n      <th>Страховые - ОМС</th>\n      <td>1527.09</td>\n      <td>1671.09</td>\n      <td>1413.13</td>\n      <td>1544.92</td>\n      <td>1330.67</td>\n      <td>1480.35</td>\n      <td>1638.02</td>\n      <td>1320.73</td>\n      <td>1388.57</td>\n      <td>1828.11</td>\n      <td>...</td>\n      <td>1584.83</td>\n      <td>1983.90</td>\n      <td>1389.22</td>\n      <td>1415.96</td>\n      <td>1244.00</td>\n      <td>1189.42</td>\n      <td>1192.72</td>\n      <td>1702.48</td>\n      <td>1117.16</td>\n      <td>1244.04</td>\n    </tr>\n    <tr>\n      <th>Страховые - ПФР</th>\n      <td>183245.72</td>\n      <td>200529.62</td>\n      <td>169571.04</td>\n      <td>185389.81</td>\n      <td>159680.33</td>\n      <td>167392.77</td>\n      <td>196561.49</td>\n      <td>158489.42</td>\n      <td>166627.87</td>\n      <td>181162.29</td>\n      <td>...</td>\n      <td>183693.70</td>\n      <td>206928.96</td>\n      <td>166707.34</td>\n      <td>169914.92</td>\n      <td>149280.49</td>\n      <td>142730.11</td>\n      <td>143126.06</td>\n      <td>204297.96</td>\n      <td>139359.32</td>\n      <td>149285.51</td>\n    </tr>\n  </tbody>\n</table>\n<p>4 rows × 24 columns</p>\n</div>"
     },
     "execution_count": 43,
     "metadata": {},
     "output_type": "execute_result"
    }
   ],
   "source": [
    "view.correction_sum()\n"
   ],
   "metadata": {
    "collapsed": false
   }
  },
  {
   "cell_type": "code",
   "execution_count": null,
   "outputs": [],
   "source": [],
   "metadata": {
    "collapsed": false
   }
  }
 ],
 "metadata": {
  "kernelspec": {
   "display_name": "Python 3",
   "language": "python",
   "name": "python3"
  },
  "language_info": {
   "codemirror_mode": {
    "name": "ipython",
    "version": 2
   },
   "file_extension": ".py",
   "mimetype": "text/x-python",
   "name": "python",
   "nbconvert_exporter": "python",
   "pygments_lexer": "ipython2",
   "version": "2.7.6"
  }
 },
 "nbformat": 4,
 "nbformat_minor": 0
}

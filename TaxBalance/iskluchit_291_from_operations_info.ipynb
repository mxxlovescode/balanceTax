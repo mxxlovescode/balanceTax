{
 "cells": [
  {
   "cell_type": "markdown",
   "source": [
    "Информация для Марины Р. для подготовки жалоб на исключение восстановленных долгов из операций по лицевому счету налогплательщика"
   ],
   "metadata": {
    "collapsed": false
   }
  },
  {
   "cell_type": "code",
   "execution_count": 35,
   "outputs": [
    {
     "name": "stderr",
     "output_type": "stream",
     "text": [
      "/Users/maksimtunev/PycharmProjects/balanceTax/venv/lib/python3.8/site-packages/openpyxl/styles/stylesheet.py:226: UserWarning: Workbook contains no default style, apply openpyxl's default\n",
      "  warn(\"Workbook contains no default style, apply openpyxl's default\")\n",
      "2023-04-14 12:23:36 INFO:Загрузка файла завершена. В платежах содержится 65 операций.\n",
      "2023-04-14 12:23:36 INFO:Загрузка файла завершена. В платежах содержится 326 операций.\n",
      "/Users/maksimtunev/PycharmProjects/balanceTax/venv/lib/python3.8/site-packages/openpyxl/styles/stylesheet.py:226: UserWarning: Workbook contains no default style, apply openpyxl's default\n",
      "  warn(\"Workbook contains no default style, apply openpyxl's default\")\n",
      "2023-04-14 12:23:37 INFO:Загрузка файла завершена. В платежах содержится 637 операций.\n",
      "2023-04-14 12:23:39 INFO:Загрузка файла завершена. В балансе содержится 816 операций.\n",
      "2023-04-14 12:23:41 INFO:Загрузка файла завершена. В балансе содержится 1729 операций.\n",
      "2023-04-14 12:23:42 INFO:Загрузка файла завершена. В балансе содержится 2493 операций.\n"
     ]
    }
   ],
   "source": [
    "import logging\n",
    "from importlib import reload\n",
    "\n",
    "import pandas as pd\n",
    "\n",
    "import import_excel\n",
    "import views\n",
    "\n",
    "reload(logging)\n",
    "reload(import_excel)\n",
    "reload(views)\n",
    "\n",
    "logging.basicConfig(level=logging.INFO,\n",
    "                    format='%(asctime)s %(levelname)s:%(message)s',\n",
    "                    datefmt='%Y-%m-%d %H:%M:%S')\n",
    "pd.set_option('display.max_rows', 1000)\n",
    "\n",
    "view = views.UFNSView()"
   ],
   "metadata": {
    "collapsed": false
   }
  },
  {
   "cell_type": "code",
   "execution_count": 36,
   "outputs": [],
   "source": [
    "# Выгружаем все операции за 29.09.22 (когда произошло восстановление)\n",
    "\n",
    "import pandas as pd\n",
    "\n",
    "# Read the data from the source\n",
    "df = view.df\n",
    "\n",
    "# Create a mask to filter operations on the given date with no credit\n",
    "mask = (df.operation_date == pd.to_datetime('2022-09-22').date()) & (df.credit == 0)\n",
    "\n",
    "# Apply the mask to filter the DataFrame\n",
    "df = df[mask]\n",
    "\n",
    "# Define the desired columns and their order\n",
    "columns = view.COLUMNS_READABLE\n",
    "columns.extend(['balance_by_type', 'balance_by_tax'])\n",
    "\n",
    "# Apply the desired columns, sort the DataFrame, and reset the index\n",
    "df = df[columns].sort_values(by=['tax', 'payment_type']).reset_index(drop=True)\n",
    "\n",
    "# Convert column names to Russian and apply custom order\n",
    "columns = ['Дата Операции', 'Налог', 'Вид платежа', 'Операция', 'Дебет', 'Документ: Номер', 'Срок уплаты',\n",
    "           'Баланс по виду платежа', 'Баланс по карточке', ]\n",
    "df = view.to_russian(df)[columns]\n",
    "\n",
    "# Save the DataFrame to an Excel file\n",
    "with pd.ExcelWriter(\"Operations_of_22_09_2022.xlsx\") as writer:\n",
    "    df.to_excel(writer, index=True)"
   ],
   "metadata": {
    "collapsed": false
   }
  }
 ],
 "metadata": {
  "kernelspec": {
   "display_name": "Python 3",
   "language": "python",
   "name": "python3"
  },
  "language_info": {
   "codemirror_mode": {
    "name": "ipython",
    "version": 2
   },
   "file_extension": ".py",
   "mimetype": "text/x-python",
   "name": "python",
   "nbconvert_exporter": "python",
   "pygments_lexer": "ipython2",
   "version": "2.7.6"
  }
 },
 "nbformat": 4,
 "nbformat_minor": 0
}

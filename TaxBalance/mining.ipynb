{
 "cells": [
  {
   "cell_type": "code",
   "execution_count": 148,
   "outputs": [
    {
     "name": "stderr",
     "output_type": "stream",
     "text": [
      "/Users/maksimtunev/PycharmProjects/balanceTax/venv/lib/python3.8/site-packages/openpyxl/styles/stylesheet.py:226: UserWarning: Workbook contains no default style, apply openpyxl's default\n",
      "  warn(\"Workbook contains no default style, apply openpyxl's default\")\n",
      "2023-04-07 15:00:22 INFO:Загрузка файла завершена. В платежах содержится 65 операций.\n",
      "2023-04-07 15:00:22 INFO:Загрузка файла завершена. В платежах содержится 326 операций.\n",
      "/Users/maksimtunev/PycharmProjects/balanceTax/venv/lib/python3.8/site-packages/openpyxl/styles/stylesheet.py:226: UserWarning: Workbook contains no default style, apply openpyxl's default\n",
      "  warn(\"Workbook contains no default style, apply openpyxl's default\")\n",
      "2023-04-07 15:00:22 INFO:Загрузка файла завершена. В платежах содержится 637 операций.\n",
      "2023-04-07 15:00:25 INFO:Загрузка файла завершена. В балансе содержится 816 операций.\n",
      "2023-04-07 15:00:28 INFO:Загрузка файла завершена. В балансе содержится 1729 операций.\n",
      "2023-04-07 15:00:30 INFO:Загрузка файла завершена. В балансе содержится 2493 операций.\n"
     ]
    }
   ],
   "source": [
    "from importlib import reload\n",
    "import logging\n",
    "\n",
    "import pandas as pd\n",
    "\n",
    "import import_excel, views\n",
    "\n",
    "reload(logging)\n",
    "reload(import_excel)\n",
    "reload(views)\n",
    "\n",
    "logging.basicConfig(level=logging.INFO,\n",
    "                    format='%(asctime)s %(levelname)s:%(message)s',\n",
    "                    datefmt='%Y-%m-%d %H:%M:%S')\n",
    "pd.set_option('display.max_rows', 1000)\n",
    "\n",
    "view = views.UFNSView()\n"
   ],
   "metadata": {
    "collapsed": false
   }
  },
  {
   "cell_type": "code",
   "execution_count": 154,
   "outputs": [
    {
     "data": {
      "text/plain": "-2852943.1999999997"
     },
     "execution_count": 154,
     "metadata": {},
     "output_type": "execute_result"
    }
   ],
   "source": [
    "view.current_balance(payments=3543917.07, accrual=3200000)"
   ],
   "metadata": {
    "collapsed": false
   }
  },
  {
   "cell_type": "code",
   "execution_count": 155,
   "outputs": [
    {
     "data": {
      "text/plain": "                                                       balance      credit  \\\nПрибыль                                              -15642.00        0.00   \nСтраховые - Нетрудоспособность и Материнство         707856.63  1622335.98   \nНДС                                                 -182018.88   247477.95   \nСтраховые - ОМС (до до 1 января 2017)                    73.83       73.83   \nСтраховые - Нетрудоспособность и Материнство (д...        0.00        0.00   \nСтраховые - ОМС                                     -869350.08   998498.23   \nСтраховые - ПФР                                     1530429.06  8997857.89   \nНДФЛ                                               -4350392.96  3182648.80   \nСтраховые - Доп. Тариф                               -15055.87    23415.11   \nПрибыль в ФЕД. Бюджет                                 -2760.00        0.00   \nСтраховые - ПФР (не установлено)                          0.00        0.00   \n\n                                                    credit_correction  \\\nПрибыль                                                          0.00   \nСтраховые - Нетрудоспособность и Материнство                950740.63   \nНДС                                                              0.00   \nСтраховые - ОМС (до до 1 января 2017)                            0.00   \nСтраховые - Нетрудоспособность и Материнство (д...               0.00   \nСтраховые - ОМС                                              36251.52   \nСтраховые - ПФР                                            4119553.08   \nНДФЛ                                                             0.00   \nСтраховые - Доп. Тариф                                           0.00   \nПрибыль в ФЕД. Бюджет                                            0.00   \nСтраховые - ПФР (не установлено)                                 0.00   \n\n                                                         debit  debit_penni  \\\nПрибыль                                               15642.00         0.00   \nСтраховые - Нетрудоспособность и Материнство         914479.35     44149.84   \nНДС                                                  668885.96    258662.96   \nСтраховые - ОМС (до до 1 января 2017)                     0.00         0.00   \nСтраховые - Нетрудоспособность и Материнство (д...        0.00         0.00   \nСтраховые - ОМС                                     2064908.35    305414.31   \nСтраховые - ПФР                                     7816725.36    740485.78   \nНДФЛ                                                7720061.53    978972.35   \nСтраховые - Доп. Тариф                                42929.28      6523.05   \nПрибыль в ФЕД. Бюджет                                  2760.00         0.00   \nСтраховые - ПФР (не установлено)                          0.00         0.00   \n\n                                                    debit_penni_291  \nПрибыль                                                        0.00  \nСтраховые - Нетрудоспособность и Материнство                   0.00  \nНДС                                                       239389.13  \nСтраховые - ОМС (до до 1 января 2017)                          0.00  \nСтраховые - Нетрудоспособность и Материнство (д...             0.00  \nСтраховые - ОМС                                           197060.04  \nСтраховые - ПФР                                           349296.53  \nНДФЛ                                                      187019.77  \nСтраховые - Доп. Тариф                                      4458.30  \nПрибыль в ФЕД. Бюджет                                          0.00  \nСтраховые - ПФР (не установлено)                               0.00  ",
      "text/html": "<div>\n<style scoped>\n    .dataframe tbody tr th:only-of-type {\n        vertical-align: middle;\n    }\n\n    .dataframe tbody tr th {\n        vertical-align: top;\n    }\n\n    .dataframe thead th {\n        text-align: right;\n    }\n</style>\n<table border=\"1\" class=\"dataframe\">\n  <thead>\n    <tr style=\"text-align: right;\">\n      <th></th>\n      <th>balance</th>\n      <th>credit</th>\n      <th>credit_correction</th>\n      <th>debit</th>\n      <th>debit_penni</th>\n      <th>debit_penni_291</th>\n    </tr>\n  </thead>\n  <tbody>\n    <tr>\n      <th>Прибыль</th>\n      <td>-15642.00</td>\n      <td>0.00</td>\n      <td>0.00</td>\n      <td>15642.00</td>\n      <td>0.00</td>\n      <td>0.00</td>\n    </tr>\n    <tr>\n      <th>Страховые - Нетрудоспособность и Материнство</th>\n      <td>707856.63</td>\n      <td>1622335.98</td>\n      <td>950740.63</td>\n      <td>914479.35</td>\n      <td>44149.84</td>\n      <td>0.00</td>\n    </tr>\n    <tr>\n      <th>НДС</th>\n      <td>-182018.88</td>\n      <td>247477.95</td>\n      <td>0.00</td>\n      <td>668885.96</td>\n      <td>258662.96</td>\n      <td>239389.13</td>\n    </tr>\n    <tr>\n      <th>Страховые - ОМС (до до 1 января 2017)</th>\n      <td>73.83</td>\n      <td>73.83</td>\n      <td>0.00</td>\n      <td>0.00</td>\n      <td>0.00</td>\n      <td>0.00</td>\n    </tr>\n    <tr>\n      <th>Страховые - Нетрудоспособность и Материнство (до 1 января 2017)</th>\n      <td>0.00</td>\n      <td>0.00</td>\n      <td>0.00</td>\n      <td>0.00</td>\n      <td>0.00</td>\n      <td>0.00</td>\n    </tr>\n    <tr>\n      <th>Страховые - ОМС</th>\n      <td>-869350.08</td>\n      <td>998498.23</td>\n      <td>36251.52</td>\n      <td>2064908.35</td>\n      <td>305414.31</td>\n      <td>197060.04</td>\n    </tr>\n    <tr>\n      <th>Страховые - ПФР</th>\n      <td>1530429.06</td>\n      <td>8997857.89</td>\n      <td>4119553.08</td>\n      <td>7816725.36</td>\n      <td>740485.78</td>\n      <td>349296.53</td>\n    </tr>\n    <tr>\n      <th>НДФЛ</th>\n      <td>-4350392.96</td>\n      <td>3182648.80</td>\n      <td>0.00</td>\n      <td>7720061.53</td>\n      <td>978972.35</td>\n      <td>187019.77</td>\n    </tr>\n    <tr>\n      <th>Страховые - Доп. Тариф</th>\n      <td>-15055.87</td>\n      <td>23415.11</td>\n      <td>0.00</td>\n      <td>42929.28</td>\n      <td>6523.05</td>\n      <td>4458.30</td>\n    </tr>\n    <tr>\n      <th>Прибыль в ФЕД. Бюджет</th>\n      <td>-2760.00</td>\n      <td>0.00</td>\n      <td>0.00</td>\n      <td>2760.00</td>\n      <td>0.00</td>\n      <td>0.00</td>\n    </tr>\n    <tr>\n      <th>Страховые - ПФР (не установлено)</th>\n      <td>0.00</td>\n      <td>0.00</td>\n      <td>0.00</td>\n      <td>0.00</td>\n      <td>0.00</td>\n      <td>0.00</td>\n    </tr>\n  </tbody>\n</table>\n</div>"
     },
     "execution_count": 155,
     "metadata": {},
     "output_type": "execute_result"
    }
   ],
   "source": [
    "view.model_balance()"
   ],
   "metadata": {
    "collapsed": false
   }
  },
  {
   "cell_type": "code",
   "execution_count": 157,
   "outputs": [
    {
     "data": {
      "text/plain": "-2852943.1999999997"
     },
     "execution_count": 157,
     "metadata": {},
     "output_type": "execute_result"
    }
   ],
   "source": [
    "view.current_balance(payments=3543917.07, accrual=3200000)"
   ],
   "metadata": {
    "collapsed": false
   }
  },
  {
   "cell_type": "code",
   "execution_count": 147,
   "outputs": [
    {
     "data": {
      "text/plain": "977226.4900000001"
     },
     "execution_count": 147,
     "metadata": {},
     "output_type": "execute_result"
    }
   ],
   "source": [
    "# Проверить пени по НДФЛ попробовать найти оспоримое\n",
    "\n",
    "df = view.df\n",
    "mask = (df.operation_details == 'начислены пени (по расчету)') & (df.operation_date > pd.to_datetime('2021-06-30').date())\n",
    "mask = mask & (df.deadline == pd.to_datetime('2021-06-30').date())\n",
    "df[mask][view.COLUMNS_READABLE].sort_values(by='deadline').debit.sum()"
   ],
   "metadata": {
    "collapsed": false
   }
  },
  {
   "cell_type": "code",
   "execution_count": 146,
   "outputs": [
    {
     "data": {
      "text/plain": "     operation_date                                           tax  \\\n1495     2022-09-22  Страховые - Нетрудоспособность и Материнство   \n1491     2022-09-22              Страховые - ПФР (не установлено)   \n1492     2022-09-22                        Страховые - Доп. Тариф   \n1493     2022-09-22                               Страховые - ПФР   \n1494     2022-09-22                        Страховые - Доп. Тариф   \n1496     2022-09-22                               Страховые - ПФР   \n1503     2022-09-22  Страховые - Нетрудоспособность и Материнство   \n1498     2022-09-22                                           НДС   \n1499     2022-09-22         Страховые - ОМС (до до 1 января 2017)   \n1500     2022-09-22  Страховые - Нетрудоспособность и Материнство   \n1501     2022-09-22                               Страховые - ПФР   \n1502     2022-09-22  Страховые - Нетрудоспособность и Материнство   \n1497     2022-09-22                        Страховые - Доп. Тариф   \n1490     2022-09-22                         Прибыль в ФЕД. Бюджет   \n1488     2022-09-22                               Страховые - ПФР   \n1487     2022-09-22                        Страховые - Доп. Тариф   \n1489     2022-09-22                                          НДФЛ   \n1476     2022-09-22                               Страховые - ОМС   \n1478     2022-09-22                                           НДС   \n1479     2022-09-22                                           НДС   \n1480     2022-09-22                               Страховые - ОМС   \n1477     2022-09-22                                          НДФЛ   \n1482     2022-09-22                                           НДС   \n1483     2022-09-22                                       Прибыль   \n1484     2022-09-22                               Страховые - ОМС   \n1485     2022-09-22                                          НДФЛ   \n1486     2022-09-22                                          НДФЛ   \n1481     2022-09-22                               Страховые - ОМС   \n\n                operation_details    credit       debit decision_number  \\\n1495        списана задолженность      0.00   426158.29             NaN   \n1491        списана задолженность      0.00    38180.72             NaN   \n1492        списана задолженность      0.00    20953.65             NaN   \n1493        списана задолженность      0.00   633661.44             NaN   \n1494  начислены пени (по расчету)      0.00     4458.30             NaN   \n1496  начислены пени (по расчету)      0.00   349296.53             NaN   \n1503        списана задолженность      0.00    67307.15             NaN   \n1498        списана задолженность      0.00  1065299.59             NaN   \n1499        списана задолженность      0.00     8482.71             NaN   \n1500        списана задолженность      0.00     9034.38             NaN   \n1501        списана задолженность      0.00    84905.61             NaN   \n1502  уменьшены пени (по расчету)  16635.31        0.00             NaN   \n1497        списана задолженность      0.00     2593.59             NaN   \n1490        списана задолженность      0.00       75.52             NaN   \n1488        списана задолженность      0.00  3444261.92             NaN   \n1487        списана задолженность      0.00      429.78             NaN   \n1489        списана задолженность      0.00   356344.78             NaN   \n1476        списана задолженность      0.00    16243.09             NaN   \n1478  начислены пени (по расчету)      0.00   239389.13             NaN   \n1479        списана задолженность      0.00   231192.79             NaN   \n1480        списана задолженность      0.00   121708.72             NaN   \n1477        списана задолженность      0.00   880861.09             NaN   \n1482        списана задолженность      0.00    44811.06             NaN   \n1483        списана задолженность      0.00      427.91             NaN   \n1484        списана задолженность      0.00   924267.82             NaN   \n1485  начислены пени (по расчету)      0.00   187019.77             NaN   \n1486        списана задолженность      0.00   309477.80             NaN   \n1481  начислены пени (по расчету)      0.00   197060.04             NaN   \n\n     document_period document_number    deadline  \n1495             nan             291  2021-06-30  \n1491             nan             291  2021-06-30  \n1492             nan             291  2021-06-30  \n1493             nan             291  2021-06-30  \n1494             nan                  2021-06-30  \n1496             nan                  2021-06-30  \n1503             nan             291  2021-06-30  \n1498             nan             291  2021-06-30  \n1499             nan             291  2021-06-30  \n1500             nan             291  2021-06-30  \n1501             nan             291  2021-06-30  \n1502             nan                  2021-06-30  \n1497             nan             291  2021-06-30  \n1490             nan             291  2021-06-30  \n1488             nan             291  2021-06-30  \n1487             nan             291  2021-06-30  \n1489             nan             291  2021-06-30  \n1476             nan             291  2021-06-30  \n1478             nan                  2021-06-30  \n1479             nan             291  2021-06-30  \n1480             nan             291  2021-06-30  \n1477             nan             291  2021-06-30  \n1482             nan             291  2021-06-30  \n1483             nan             291  2021-06-30  \n1484             nan             291  2021-06-30  \n1485             nan                  2021-06-30  \n1486             nan             291  2021-06-30  \n1481             nan                  2021-06-30  ",
      "text/html": "<div>\n<style scoped>\n    .dataframe tbody tr th:only-of-type {\n        vertical-align: middle;\n    }\n\n    .dataframe tbody tr th {\n        vertical-align: top;\n    }\n\n    .dataframe thead th {\n        text-align: right;\n    }\n</style>\n<table border=\"1\" class=\"dataframe\">\n  <thead>\n    <tr style=\"text-align: right;\">\n      <th></th>\n      <th>operation_date</th>\n      <th>tax</th>\n      <th>operation_details</th>\n      <th>credit</th>\n      <th>debit</th>\n      <th>decision_number</th>\n      <th>document_period</th>\n      <th>document_number</th>\n      <th>deadline</th>\n    </tr>\n  </thead>\n  <tbody>\n    <tr>\n      <th>1495</th>\n      <td>2022-09-22</td>\n      <td>Страховые - Нетрудоспособность и Материнство</td>\n      <td>списана задолженность</td>\n      <td>0.00</td>\n      <td>426158.29</td>\n      <td>NaN</td>\n      <td>nan</td>\n      <td>291</td>\n      <td>2021-06-30</td>\n    </tr>\n    <tr>\n      <th>1491</th>\n      <td>2022-09-22</td>\n      <td>Страховые - ПФР (не установлено)</td>\n      <td>списана задолженность</td>\n      <td>0.00</td>\n      <td>38180.72</td>\n      <td>NaN</td>\n      <td>nan</td>\n      <td>291</td>\n      <td>2021-06-30</td>\n    </tr>\n    <tr>\n      <th>1492</th>\n      <td>2022-09-22</td>\n      <td>Страховые - Доп. Тариф</td>\n      <td>списана задолженность</td>\n      <td>0.00</td>\n      <td>20953.65</td>\n      <td>NaN</td>\n      <td>nan</td>\n      <td>291</td>\n      <td>2021-06-30</td>\n    </tr>\n    <tr>\n      <th>1493</th>\n      <td>2022-09-22</td>\n      <td>Страховые - ПФР</td>\n      <td>списана задолженность</td>\n      <td>0.00</td>\n      <td>633661.44</td>\n      <td>NaN</td>\n      <td>nan</td>\n      <td>291</td>\n      <td>2021-06-30</td>\n    </tr>\n    <tr>\n      <th>1494</th>\n      <td>2022-09-22</td>\n      <td>Страховые - Доп. Тариф</td>\n      <td>начислены пени (по расчету)</td>\n      <td>0.00</td>\n      <td>4458.30</td>\n      <td>NaN</td>\n      <td>nan</td>\n      <td></td>\n      <td>2021-06-30</td>\n    </tr>\n    <tr>\n      <th>1496</th>\n      <td>2022-09-22</td>\n      <td>Страховые - ПФР</td>\n      <td>начислены пени (по расчету)</td>\n      <td>0.00</td>\n      <td>349296.53</td>\n      <td>NaN</td>\n      <td>nan</td>\n      <td></td>\n      <td>2021-06-30</td>\n    </tr>\n    <tr>\n      <th>1503</th>\n      <td>2022-09-22</td>\n      <td>Страховые - Нетрудоспособность и Материнство</td>\n      <td>списана задолженность</td>\n      <td>0.00</td>\n      <td>67307.15</td>\n      <td>NaN</td>\n      <td>nan</td>\n      <td>291</td>\n      <td>2021-06-30</td>\n    </tr>\n    <tr>\n      <th>1498</th>\n      <td>2022-09-22</td>\n      <td>НДС</td>\n      <td>списана задолженность</td>\n      <td>0.00</td>\n      <td>1065299.59</td>\n      <td>NaN</td>\n      <td>nan</td>\n      <td>291</td>\n      <td>2021-06-30</td>\n    </tr>\n    <tr>\n      <th>1499</th>\n      <td>2022-09-22</td>\n      <td>Страховые - ОМС (до до 1 января 2017)</td>\n      <td>списана задолженность</td>\n      <td>0.00</td>\n      <td>8482.71</td>\n      <td>NaN</td>\n      <td>nan</td>\n      <td>291</td>\n      <td>2021-06-30</td>\n    </tr>\n    <tr>\n      <th>1500</th>\n      <td>2022-09-22</td>\n      <td>Страховые - Нетрудоспособность и Материнство</td>\n      <td>списана задолженность</td>\n      <td>0.00</td>\n      <td>9034.38</td>\n      <td>NaN</td>\n      <td>nan</td>\n      <td>291</td>\n      <td>2021-06-30</td>\n    </tr>\n    <tr>\n      <th>1501</th>\n      <td>2022-09-22</td>\n      <td>Страховые - ПФР</td>\n      <td>списана задолженность</td>\n      <td>0.00</td>\n      <td>84905.61</td>\n      <td>NaN</td>\n      <td>nan</td>\n      <td>291</td>\n      <td>2021-06-30</td>\n    </tr>\n    <tr>\n      <th>1502</th>\n      <td>2022-09-22</td>\n      <td>Страховые - Нетрудоспособность и Материнство</td>\n      <td>уменьшены пени (по расчету)</td>\n      <td>16635.31</td>\n      <td>0.00</td>\n      <td>NaN</td>\n      <td>nan</td>\n      <td></td>\n      <td>2021-06-30</td>\n    </tr>\n    <tr>\n      <th>1497</th>\n      <td>2022-09-22</td>\n      <td>Страховые - Доп. Тариф</td>\n      <td>списана задолженность</td>\n      <td>0.00</td>\n      <td>2593.59</td>\n      <td>NaN</td>\n      <td>nan</td>\n      <td>291</td>\n      <td>2021-06-30</td>\n    </tr>\n    <tr>\n      <th>1490</th>\n      <td>2022-09-22</td>\n      <td>Прибыль в ФЕД. Бюджет</td>\n      <td>списана задолженность</td>\n      <td>0.00</td>\n      <td>75.52</td>\n      <td>NaN</td>\n      <td>nan</td>\n      <td>291</td>\n      <td>2021-06-30</td>\n    </tr>\n    <tr>\n      <th>1488</th>\n      <td>2022-09-22</td>\n      <td>Страховые - ПФР</td>\n      <td>списана задолженность</td>\n      <td>0.00</td>\n      <td>3444261.92</td>\n      <td>NaN</td>\n      <td>nan</td>\n      <td>291</td>\n      <td>2021-06-30</td>\n    </tr>\n    <tr>\n      <th>1487</th>\n      <td>2022-09-22</td>\n      <td>Страховые - Доп. Тариф</td>\n      <td>списана задолженность</td>\n      <td>0.00</td>\n      <td>429.78</td>\n      <td>NaN</td>\n      <td>nan</td>\n      <td>291</td>\n      <td>2021-06-30</td>\n    </tr>\n    <tr>\n      <th>1489</th>\n      <td>2022-09-22</td>\n      <td>НДФЛ</td>\n      <td>списана задолженность</td>\n      <td>0.00</td>\n      <td>356344.78</td>\n      <td>NaN</td>\n      <td>nan</td>\n      <td>291</td>\n      <td>2021-06-30</td>\n    </tr>\n    <tr>\n      <th>1476</th>\n      <td>2022-09-22</td>\n      <td>Страховые - ОМС</td>\n      <td>списана задолженность</td>\n      <td>0.00</td>\n      <td>16243.09</td>\n      <td>NaN</td>\n      <td>nan</td>\n      <td>291</td>\n      <td>2021-06-30</td>\n    </tr>\n    <tr>\n      <th>1478</th>\n      <td>2022-09-22</td>\n      <td>НДС</td>\n      <td>начислены пени (по расчету)</td>\n      <td>0.00</td>\n      <td>239389.13</td>\n      <td>NaN</td>\n      <td>nan</td>\n      <td></td>\n      <td>2021-06-30</td>\n    </tr>\n    <tr>\n      <th>1479</th>\n      <td>2022-09-22</td>\n      <td>НДС</td>\n      <td>списана задолженность</td>\n      <td>0.00</td>\n      <td>231192.79</td>\n      <td>NaN</td>\n      <td>nan</td>\n      <td>291</td>\n      <td>2021-06-30</td>\n    </tr>\n    <tr>\n      <th>1480</th>\n      <td>2022-09-22</td>\n      <td>Страховые - ОМС</td>\n      <td>списана задолженность</td>\n      <td>0.00</td>\n      <td>121708.72</td>\n      <td>NaN</td>\n      <td>nan</td>\n      <td>291</td>\n      <td>2021-06-30</td>\n    </tr>\n    <tr>\n      <th>1477</th>\n      <td>2022-09-22</td>\n      <td>НДФЛ</td>\n      <td>списана задолженность</td>\n      <td>0.00</td>\n      <td>880861.09</td>\n      <td>NaN</td>\n      <td>nan</td>\n      <td>291</td>\n      <td>2021-06-30</td>\n    </tr>\n    <tr>\n      <th>1482</th>\n      <td>2022-09-22</td>\n      <td>НДС</td>\n      <td>списана задолженность</td>\n      <td>0.00</td>\n      <td>44811.06</td>\n      <td>NaN</td>\n      <td>nan</td>\n      <td>291</td>\n      <td>2021-06-30</td>\n    </tr>\n    <tr>\n      <th>1483</th>\n      <td>2022-09-22</td>\n      <td>Прибыль</td>\n      <td>списана задолженность</td>\n      <td>0.00</td>\n      <td>427.91</td>\n      <td>NaN</td>\n      <td>nan</td>\n      <td>291</td>\n      <td>2021-06-30</td>\n    </tr>\n    <tr>\n      <th>1484</th>\n      <td>2022-09-22</td>\n      <td>Страховые - ОМС</td>\n      <td>списана задолженность</td>\n      <td>0.00</td>\n      <td>924267.82</td>\n      <td>NaN</td>\n      <td>nan</td>\n      <td>291</td>\n      <td>2021-06-30</td>\n    </tr>\n    <tr>\n      <th>1485</th>\n      <td>2022-09-22</td>\n      <td>НДФЛ</td>\n      <td>начислены пени (по расчету)</td>\n      <td>0.00</td>\n      <td>187019.77</td>\n      <td>NaN</td>\n      <td>nan</td>\n      <td></td>\n      <td>2021-06-30</td>\n    </tr>\n    <tr>\n      <th>1486</th>\n      <td>2022-09-22</td>\n      <td>НДФЛ</td>\n      <td>списана задолженность</td>\n      <td>0.00</td>\n      <td>309477.80</td>\n      <td>NaN</td>\n      <td>nan</td>\n      <td>291</td>\n      <td>2021-06-30</td>\n    </tr>\n    <tr>\n      <th>1481</th>\n      <td>2022-09-22</td>\n      <td>Страховые - ОМС</td>\n      <td>начислены пени (по расчету)</td>\n      <td>0.00</td>\n      <td>197060.04</td>\n      <td>NaN</td>\n      <td>nan</td>\n      <td></td>\n      <td>2021-06-30</td>\n    </tr>\n  </tbody>\n</table>\n</div>"
     },
     "execution_count": 146,
     "metadata": {},
     "output_type": "execute_result"
    }
   ],
   "source": [
    "# Что вообще произошло 09-22-2022\n",
    "\n",
    "df = view.df\n",
    "mask = (df.operation_date == pd.to_datetime('2022-09-22').date())\n",
    "df[mask][view.COLUMNS_READABLE]\n",
    "\n",
    "# Восстановили 9663903.18 вместе с новыми пенями"
   ],
   "metadata": {
    "collapsed": false
   }
  },
  {
   "cell_type": "code",
   "execution_count": 142,
   "outputs": [
    {
     "data": {
      "text/plain": "5106545.23"
     },
     "execution_count": 142,
     "metadata": {},
     "output_type": "execute_result"
    }
   ],
   "source": [
    "df = view.correction_sum()\n",
    "df.values.sum()"
   ],
   "metadata": {
    "collapsed": false
   }
  },
  {
   "cell_type": "code",
   "execution_count": 145,
   "outputs": [
    {
     "data": {
      "text/plain": "8686679.41"
     },
     "execution_count": 145,
     "metadata": {},
     "output_type": "execute_result"
    }
   ],
   "source": [
    "# Что вообще произошло 30-06-2022\n",
    "\n",
    "df = view.df\n",
    "mask = (df.operation_date == pd.to_datetime('2021-06-30').date())\n",
    "df[mask][view.COLUMNS_READABLE].credit.sum()\n"
   ],
   "metadata": {
    "collapsed": false
   }
  },
  {
   "cell_type": "code",
   "execution_count": null,
   "outputs": [],
   "source": [],
   "metadata": {
    "collapsed": false
   }
  }
 ],
 "metadata": {
  "kernelspec": {
   "display_name": "Python 3",
   "language": "python",
   "name": "python3"
  },
  "language_info": {
   "codemirror_mode": {
    "name": "ipython",
    "version": 2
   },
   "file_extension": ".py",
   "mimetype": "text/x-python",
   "name": "python",
   "nbconvert_exporter": "python",
   "pygments_lexer": "ipython2",
   "version": "2.7.6"
  }
 },
 "nbformat": 4,
 "nbformat_minor": 0
}

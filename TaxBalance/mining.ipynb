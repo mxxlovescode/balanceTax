{
 "cells": [
  {
   "cell_type": "code",
   "execution_count": 30,
   "metadata": {
    "collapsed": true
   },
   "outputs": [
    {
     "name": "stderr",
     "output_type": "stream",
     "text": [
      "2023-04-03 17:35:24 INFO:Успешно импортировано 816 строк.\n",
      "2023-04-03 17:35:24 INFO:Загрузка файла завершена. В балансе содержится 816 операций.\n",
      "2023-04-03 17:35:25 INFO:Успешно импортировано 913 строк.\n",
      "2023-04-03 17:35:25 INFO:Загрузка файла завершена. В балансе содержится 1729 операций.\n",
      "2023-04-03 17:35:27 INFO:Успешно импортировано 764 строк.\n",
      "2023-04-03 17:35:27 INFO:Загрузка файла завершена. В балансе содержится 2493 операций.\n"
     ]
    }
   ],
   "source": [
    "from importlib import reload\n",
    "import logging\n",
    "import taxbalance\n",
    "\n",
    "reload(logging)\n",
    "reload(taxbalance)\n",
    "\n",
    "logging.basicConfig(level=logging.INFO,\n",
    "                    format='%(asctime)s %(levelname)s:%(message)s',\n",
    "                    datefmt='%Y-%m-%d %H:%M:%S')\n",
    "\n",
    "\n",
    "balance = taxbalance.UFNSTaxBalance().add_from_excel(\"data/Выписка операций по расчету с бюджетом Ангарский (2020).xlsx\")\\\n",
    "    .add_from_excel(\"data/Выписка операций по расчету с бюджетом Ангарский (2022).xlsx\")\\\n",
    "    .add_from_excel(\"data/Выписка операций по расчету с бюджетом Ангарский (2021).xlsx\")\n",
    "\n"
   ]
  },
  {
   "cell_type": "code",
   "execution_count": 9,
   "outputs": [],
   "source": [
    "ndfl = balance.get_payments(tax=\"НДФЛ\")"
   ],
   "metadata": {
    "collapsed": false
   }
  },
  {
   "cell_type": "code",
   "execution_count": 13,
   "outputs": [
    {
     "data": {
      "text/plain": "document_number  document_date\n002177           2020-12-11         8711.62\n006355           2021-03-31        66854.39\n                 2021-04-01       106842.61\n                 2021-04-02        71576.90\n                 2021-04-03        45357.99\n                                    ...    \n9861             2020-09-29        19322.07\n                 2020-09-30       107800.38\n                 2020-10-01       129914.10\n                 2020-10-02        69721.03\n                 2020-10-30         2540.42\nName: credit, Length: 191, dtype: float64"
     },
     "execution_count": 13,
     "metadata": {},
     "output_type": "execute_result"
    }
   ],
   "source": [
    "ndfl.groupby(by=['document_number', 'document_date']).sum('credit')['credit']"
   ],
   "metadata": {
    "collapsed": false
   }
  },
  {
   "cell_type": "code",
   "execution_count": 55,
   "outputs": [
    {
     "name": "stderr",
     "output_type": "stream",
     "text": [
      "DEBUG:root:Импортируем Файл: data/СберБизнес. Выписка за 2021.01.01-2021.12.31 счёт 40702810465000000826.xlsx\n",
      "DEBUG:root: Найдена: [Дата проводки] - колонка: Unnamed: 1\n",
      "DEBUG:root: Найдена: [Сумма по дебету] - колонка: Unnamed: 9\n",
      "DEBUG:root: Найдена: [№ документа] - колонка: Unnamed: 14\n",
      "DEBUG:root: Найдена: [Назначение платежа] - колонка: Unnamed: 20\n",
      "DEBUG:root:Загружено 276 операций из 276 строк.\n",
      "DEBUG:root:Типы полей установлены.\n",
      "DEBUG:root:Дополнительно отброшено -1\n",
      "DEBUG:root:  operation_date  operation_sum document_number reason\n",
      "0     2022-11-29            NaN             nan    nan\n"
     ]
    }
   ],
   "source": [
    "reload(logging)\n",
    "reload(taxbalance)\n",
    "logging.basicConfig(level=logging.DEBUG)\n",
    "sber = taxbalance.SberPaymentsExcelBuilder()\\\n",
    "    .import_excel(\"data/СберБизнес. Выписка за 2021.01.01-2021.12.31 счёт 40702810465000000826.xlsx\")\\\n",
    "    .clean_column_values()\\\n",
    "    .identify_columns()\\\n",
    "    .select_datetime_rows()\\\n",
    "    .set_types()\\\n",
    "    .select_validated_rows()"
   ],
   "metadata": {
    "collapsed": false
   }
  },
  {
   "cell_type": "code",
   "execution_count": 46,
   "outputs": [
    {
     "data": {
      "text/plain": "     operation_date  operation_sum  document_number  reason\n0              True          False             True    True\n1              True           True             True    True\n2              True           True             True    True\n3              True           True             True    True\n4              True           True             True    True\n..              ...            ...              ...     ...\n257            True           True             True    True\n258            True           True             True    True\n259            True           True             True    True\n260            True           True             True    True\n261            True           True             True    True\n\n[262 rows x 4 columns]",
      "text/html": "<div>\n<style scoped>\n    .dataframe tbody tr th:only-of-type {\n        vertical-align: middle;\n    }\n\n    .dataframe tbody tr th {\n        vertical-align: top;\n    }\n\n    .dataframe thead th {\n        text-align: right;\n    }\n</style>\n<table border=\"1\" class=\"dataframe\">\n  <thead>\n    <tr style=\"text-align: right;\">\n      <th></th>\n      <th>operation_date</th>\n      <th>operation_sum</th>\n      <th>document_number</th>\n      <th>reason</th>\n    </tr>\n  </thead>\n  <tbody>\n    <tr>\n      <th>0</th>\n      <td>True</td>\n      <td>False</td>\n      <td>True</td>\n      <td>True</td>\n    </tr>\n    <tr>\n      <th>1</th>\n      <td>True</td>\n      <td>True</td>\n      <td>True</td>\n      <td>True</td>\n    </tr>\n    <tr>\n      <th>2</th>\n      <td>True</td>\n      <td>True</td>\n      <td>True</td>\n      <td>True</td>\n    </tr>\n    <tr>\n      <th>3</th>\n      <td>True</td>\n      <td>True</td>\n      <td>True</td>\n      <td>True</td>\n    </tr>\n    <tr>\n      <th>4</th>\n      <td>True</td>\n      <td>True</td>\n      <td>True</td>\n      <td>True</td>\n    </tr>\n    <tr>\n      <th>...</th>\n      <td>...</td>\n      <td>...</td>\n      <td>...</td>\n      <td>...</td>\n    </tr>\n    <tr>\n      <th>257</th>\n      <td>True</td>\n      <td>True</td>\n      <td>True</td>\n      <td>True</td>\n    </tr>\n    <tr>\n      <th>258</th>\n      <td>True</td>\n      <td>True</td>\n      <td>True</td>\n      <td>True</td>\n    </tr>\n    <tr>\n      <th>259</th>\n      <td>True</td>\n      <td>True</td>\n      <td>True</td>\n      <td>True</td>\n    </tr>\n    <tr>\n      <th>260</th>\n      <td>True</td>\n      <td>True</td>\n      <td>True</td>\n      <td>True</td>\n    </tr>\n    <tr>\n      <th>261</th>\n      <td>True</td>\n      <td>True</td>\n      <td>True</td>\n      <td>True</td>\n    </tr>\n  </tbody>\n</table>\n<p>262 rows × 4 columns</p>\n</div>"
     },
     "execution_count": 46,
     "metadata": {},
     "output_type": "execute_result"
    }
   ],
   "source": [
    "sber._result.notna()"
   ],
   "metadata": {
    "collapsed": false
   }
  },
  {
   "cell_type": "code",
   "execution_count": 56,
   "outputs": [
    {
     "data": {
      "text/plain": "    operation_date  operation_sum document_number  \\\n1       2021-01-04      165963.29            4805   \n2       2021-01-06       21352.26            4805   \n3       2021-01-07       10300.00            4805   \n4       2021-01-08       40063.53            4805   \n5       2021-01-11        2915.42            4809   \n..             ...            ...             ...   \n257     2021-12-30        2573.00           35648   \n258     2021-12-30        2889.42           35648   \n259     2021-12-30        4271.21           35648   \n260     2021-12-30       56139.51           35648   \n261     2021-12-30       62472.07           35649   \n\n                                                reason  \n1    По решению о взыскании № 1133 от 21.12.2020 на...  \n2    По решению о взыскании № 1133 от 21.12.2020 на...  \n3    По решению о взыскании № 1133 от 21.12.2020 на...  \n4    По решению о взыскании № 1133 от 21.12.2020 на...  \n5    По решению о взыскании № 1133 от 21.12.2020 на...  \n..                                                 ...  \n257  По решению о взыскании № 8785 от 06.12.2021 на...  \n258  По решению о взыскании № 8785 от 06.12.2021 на...  \n259  По решению о взыскании № 8785 от 06.12.2021 на...  \n260  По решению о взыскании № 8785 от 06.12.2021 на...  \n261  По решению о взыскании № 8785 от 06.12.2021 на...  \n\n[261 rows x 4 columns]",
      "text/html": "<div>\n<style scoped>\n    .dataframe tbody tr th:only-of-type {\n        vertical-align: middle;\n    }\n\n    .dataframe tbody tr th {\n        vertical-align: top;\n    }\n\n    .dataframe thead th {\n        text-align: right;\n    }\n</style>\n<table border=\"1\" class=\"dataframe\">\n  <thead>\n    <tr style=\"text-align: right;\">\n      <th></th>\n      <th>operation_date</th>\n      <th>operation_sum</th>\n      <th>document_number</th>\n      <th>reason</th>\n    </tr>\n  </thead>\n  <tbody>\n    <tr>\n      <th>1</th>\n      <td>2021-01-04</td>\n      <td>165963.29</td>\n      <td>4805</td>\n      <td>По решению о взыскании № 1133 от 21.12.2020 на...</td>\n    </tr>\n    <tr>\n      <th>2</th>\n      <td>2021-01-06</td>\n      <td>21352.26</td>\n      <td>4805</td>\n      <td>По решению о взыскании № 1133 от 21.12.2020 на...</td>\n    </tr>\n    <tr>\n      <th>3</th>\n      <td>2021-01-07</td>\n      <td>10300.00</td>\n      <td>4805</td>\n      <td>По решению о взыскании № 1133 от 21.12.2020 на...</td>\n    </tr>\n    <tr>\n      <th>4</th>\n      <td>2021-01-08</td>\n      <td>40063.53</td>\n      <td>4805</td>\n      <td>По решению о взыскании № 1133 от 21.12.2020 на...</td>\n    </tr>\n    <tr>\n      <th>5</th>\n      <td>2021-01-11</td>\n      <td>2915.42</td>\n      <td>4809</td>\n      <td>По решению о взыскании № 1133 от 21.12.2020 на...</td>\n    </tr>\n    <tr>\n      <th>...</th>\n      <td>...</td>\n      <td>...</td>\n      <td>...</td>\n      <td>...</td>\n    </tr>\n    <tr>\n      <th>257</th>\n      <td>2021-12-30</td>\n      <td>2573.00</td>\n      <td>35648</td>\n      <td>По решению о взыскании № 8785 от 06.12.2021 на...</td>\n    </tr>\n    <tr>\n      <th>258</th>\n      <td>2021-12-30</td>\n      <td>2889.42</td>\n      <td>35648</td>\n      <td>По решению о взыскании № 8785 от 06.12.2021 на...</td>\n    </tr>\n    <tr>\n      <th>259</th>\n      <td>2021-12-30</td>\n      <td>4271.21</td>\n      <td>35648</td>\n      <td>По решению о взыскании № 8785 от 06.12.2021 на...</td>\n    </tr>\n    <tr>\n      <th>260</th>\n      <td>2021-12-30</td>\n      <td>56139.51</td>\n      <td>35648</td>\n      <td>По решению о взыскании № 8785 от 06.12.2021 на...</td>\n    </tr>\n    <tr>\n      <th>261</th>\n      <td>2021-12-30</td>\n      <td>62472.07</td>\n      <td>35649</td>\n      <td>По решению о взыскании № 8785 от 06.12.2021 на...</td>\n    </tr>\n  </tbody>\n</table>\n<p>261 rows × 4 columns</p>\n</div>"
     },
     "execution_count": 56,
     "metadata": {},
     "output_type": "execute_result"
    }
   ],
   "source": [
    "sber._result"
   ],
   "metadata": {
    "collapsed": false
   }
  },
  {
   "cell_type": "code",
   "execution_count": 57,
   "outputs": [
    {
     "data": {
      "text/plain": "    operation_date  operation_sum document_number  \\\n1       2021-01-04      165963.29            4805   \n2       2021-01-06       21352.26            4805   \n3       2021-01-07       10300.00            4805   \n4       2021-01-08       40063.53            4805   \n5       2021-01-11        2915.42            4809   \n..             ...            ...             ...   \n257     2021-12-30        2573.00           35648   \n258     2021-12-30        2889.42           35648   \n259     2021-12-30        4271.21           35648   \n260     2021-12-30       56139.51           35648   \n261     2021-12-30       62472.07           35649   \n\n                                                reason  \n1    По решению о взыскании № 1133 от 21.12.2020 на...  \n2    По решению о взыскании № 1133 от 21.12.2020 на...  \n3    По решению о взыскании № 1133 от 21.12.2020 на...  \n4    По решению о взыскании № 1133 от 21.12.2020 на...  \n5    По решению о взыскании № 1133 от 21.12.2020 на...  \n..                                                 ...  \n257  По решению о взыскании № 8785 от 06.12.2021 на...  \n258  По решению о взыскании № 8785 от 06.12.2021 на...  \n259  По решению о взыскании № 8785 от 06.12.2021 на...  \n260  По решению о взыскании № 8785 от 06.12.2021 на...  \n261  По решению о взыскании № 8785 от 06.12.2021 на...  \n\n[261 rows x 4 columns]",
      "text/html": "<div>\n<style scoped>\n    .dataframe tbody tr th:only-of-type {\n        vertical-align: middle;\n    }\n\n    .dataframe tbody tr th {\n        vertical-align: top;\n    }\n\n    .dataframe thead th {\n        text-align: right;\n    }\n</style>\n<table border=\"1\" class=\"dataframe\">\n  <thead>\n    <tr style=\"text-align: right;\">\n      <th></th>\n      <th>operation_date</th>\n      <th>operation_sum</th>\n      <th>document_number</th>\n      <th>reason</th>\n    </tr>\n  </thead>\n  <tbody>\n    <tr>\n      <th>1</th>\n      <td>2021-01-04</td>\n      <td>165963.29</td>\n      <td>4805</td>\n      <td>По решению о взыскании № 1133 от 21.12.2020 на...</td>\n    </tr>\n    <tr>\n      <th>2</th>\n      <td>2021-01-06</td>\n      <td>21352.26</td>\n      <td>4805</td>\n      <td>По решению о взыскании № 1133 от 21.12.2020 на...</td>\n    </tr>\n    <tr>\n      <th>3</th>\n      <td>2021-01-07</td>\n      <td>10300.00</td>\n      <td>4805</td>\n      <td>По решению о взыскании № 1133 от 21.12.2020 на...</td>\n    </tr>\n    <tr>\n      <th>4</th>\n      <td>2021-01-08</td>\n      <td>40063.53</td>\n      <td>4805</td>\n      <td>По решению о взыскании № 1133 от 21.12.2020 на...</td>\n    </tr>\n    <tr>\n      <th>5</th>\n      <td>2021-01-11</td>\n      <td>2915.42</td>\n      <td>4809</td>\n      <td>По решению о взыскании № 1133 от 21.12.2020 на...</td>\n    </tr>\n    <tr>\n      <th>...</th>\n      <td>...</td>\n      <td>...</td>\n      <td>...</td>\n      <td>...</td>\n    </tr>\n    <tr>\n      <th>257</th>\n      <td>2021-12-30</td>\n      <td>2573.00</td>\n      <td>35648</td>\n      <td>По решению о взыскании № 8785 от 06.12.2021 на...</td>\n    </tr>\n    <tr>\n      <th>258</th>\n      <td>2021-12-30</td>\n      <td>2889.42</td>\n      <td>35648</td>\n      <td>По решению о взыскании № 8785 от 06.12.2021 на...</td>\n    </tr>\n    <tr>\n      <th>259</th>\n      <td>2021-12-30</td>\n      <td>4271.21</td>\n      <td>35648</td>\n      <td>По решению о взыскании № 8785 от 06.12.2021 на...</td>\n    </tr>\n    <tr>\n      <th>260</th>\n      <td>2021-12-30</td>\n      <td>56139.51</td>\n      <td>35648</td>\n      <td>По решению о взыскании № 8785 от 06.12.2021 на...</td>\n    </tr>\n    <tr>\n      <th>261</th>\n      <td>2021-12-30</td>\n      <td>62472.07</td>\n      <td>35649</td>\n      <td>По решению о взыскании № 8785 от 06.12.2021 на...</td>\n    </tr>\n  </tbody>\n</table>\n<p>261 rows × 4 columns</p>\n</div>"
     },
     "execution_count": 57,
     "metadata": {},
     "output_type": "execute_result"
    }
   ],
   "source": [
    "sber._result\n"
   ],
   "metadata": {
    "collapsed": false
   }
  },
  {
   "cell_type": "code",
   "execution_count": null,
   "outputs": [],
   "source": [],
   "metadata": {
    "collapsed": false
   }
  }
 ],
 "metadata": {
  "kernelspec": {
   "display_name": "Python 3",
   "language": "python",
   "name": "python3"
  },
  "language_info": {
   "codemirror_mode": {
    "name": "ipython",
    "version": 2
   },
   "file_extension": ".py",
   "mimetype": "text/x-python",
   "name": "python",
   "nbconvert_exporter": "python",
   "pygments_lexer": "ipython2",
   "version": "2.7.6"
  }
 },
 "nbformat": 4,
 "nbformat_minor": 0
}

{
 "cells": [
  {
   "cell_type": "code",
   "execution_count": 58,
   "metadata": {
    "collapsed": true
   },
   "outputs": [
    {
     "name": "stderr",
     "output_type": "stream",
     "text": [
      "2023-04-04 09:35:04 INFO:Успешно импортировано 816 строк.\n",
      "2023-04-04 09:35:04 INFO:Загрузка файла завершена. В балансе содержится 816 операций.\n",
      "2023-04-04 09:35:07 INFO:Успешно импортировано 913 строк.\n",
      "2023-04-04 09:35:07 INFO:Загрузка файла завершена. В балансе содержится 1729 операций.\n",
      "2023-04-04 09:35:09 INFO:Успешно импортировано 764 строк.\n",
      "2023-04-04 09:35:09 INFO:Загрузка файла завершена. В балансе содержится 2493 операций.\n"
     ]
    }
   ],
   "source": [
    "from importlib import reload\n",
    "import logging\n",
    "import taxbalance\n",
    "\n",
    "reload(logging)\n",
    "reload(taxbalance)\n",
    "\n",
    "logging.basicConfig(level=logging.INFO,\n",
    "                    format='%(asctime)s %(levelname)s:%(message)s',\n",
    "                    datefmt='%Y-%m-%d %H:%M:%S')\n",
    "\n",
    "\n",
    "balance = taxbalance.UFNSTaxBalance().add_from_excel(\"data/Выписка операций по расчету с бюджетом Ангарский (2020).xlsx\")\\\n",
    "    .add_from_excel(\"data/Выписка операций по расчету с бюджетом Ангарский (2022).xlsx\")\\\n",
    "    .add_from_excel(\"data/Выписка операций по расчету с бюджетом Ангарский (2021).xlsx\")\n",
    "\n"
   ]
  },
  {
   "cell_type": "code",
   "execution_count": 104,
   "outputs": [
    {
     "name": "stderr",
     "output_type": "stream",
     "text": [
      "/Users/maksimtunev/PycharmProjects/balanceTax/venv/lib/python3.8/site-packages/openpyxl/styles/stylesheet.py:226: UserWarning: Workbook contains no default style, apply openpyxl's default\n",
      "  warn(\"Workbook contains no default style, apply openpyxl's default\")\n",
      "INFO:root:Успешно импортировано 65 строк.\n",
      "INFO:root:Загрузка файла завершена. В платежах содержится 65 операций.\n",
      "INFO:root:Успешно импортировано 261 строк.\n",
      "INFO:root:Загрузка файла завершена. В платежах содержится 326 операций.\n",
      "/Users/maksimtunev/PycharmProjects/balanceTax/venv/lib/python3.8/site-packages/openpyxl/styles/stylesheet.py:226: UserWarning: Workbook contains no default style, apply openpyxl's default\n",
      "  warn(\"Workbook contains no default style, apply openpyxl's default\")\n",
      "INFO:root:Успешно импортировано 311 строк.\n",
      "INFO:root:Загрузка файла завершена. В платежах содержится 637 операций.\n"
     ]
    }
   ],
   "source": [
    "# Импорт Банковских платежей\n",
    "reload(logging)\n",
    "reload(taxbalance)\n",
    "logging.basicConfig(level=logging.INFO)\n",
    "sber = taxbalance.SberPayments()\\\n",
    "    .add_from_excel('/Users/maksimtunev/PycharmProjects/balanceTax/TaxBalance/data/Ангарский июль-декабрь 2020.xlsx')\\\n",
    "    .add_from_excel('/Users/maksimtunev/PycharmProjects/balanceTax/TaxBalance/data/СберБизнес. Выписка за 2021.01.01-2021.12.31 счёт 40702810465000000826.xlsx')\\\n",
    "    .add_from_excel('/Users/maksimtunev/PycharmProjects/balanceTax/TaxBalance/data/СберБизнес. Выписка за 2022.01.01-2022.12.31 счёт 40702810465000000826.xlsx')\n"
   ],
   "metadata": {
    "collapsed": false
   }
  },
  {
   "cell_type": "code",
   "execution_count": 85,
   "outputs": [
    {
     "data": {
      "text/plain": "    operation_date  operation_sum document_number  \\\n0       2020-12-18        4569.08            2179   \n1       2020-12-18        8711.62            2177   \n2       2020-12-18       15558.15            2179   \n3       2020-12-18      122143.06            2179   \n4       2020-12-19       30006.15            2179   \n..             ...            ...             ...   \n633     2022-11-24        5509.11           12790   \n631     2022-11-24         216.64           12790   \n634     2022-11-24       39531.47           12790   \n635     2022-11-25        3643.84           12790   \n636     2022-11-25       40321.11           12790   \n\n                                                reason decision_number  \n0    По решению о взыскании № 685 от 11.12.2020 на ...             685  \n1    По решению о взыскании № 685 от 11.12.2020 на ...             685  \n2    По решению о взыскании № 685 от 11.12.2020 на ...             685  \n3    По решению о взыскании № 685 от 11.12.2020 на ...             685  \n4    По решению о взыскании № 685 от 11.12.2020 на ...             685  \n..                                                 ...             ...  \n633  По решению о взыскании № 2820 от 29.03.2022 на...            2820  \n631  По решению о взыскании № 2820 от 29.03.2022 на...            2820  \n634  По решению о взыскании № 2820 от 29.03.2022 на...            2820  \n635  По решению о взыскании № 2820 от 29.03.2022 на...            2820  \n636  По решению о взыскании № 2820 от 29.03.2022 на...            2820  \n\n[637 rows x 5 columns]",
      "text/html": "<div>\n<style scoped>\n    .dataframe tbody tr th:only-of-type {\n        vertical-align: middle;\n    }\n\n    .dataframe tbody tr th {\n        vertical-align: top;\n    }\n\n    .dataframe thead th {\n        text-align: right;\n    }\n</style>\n<table border=\"1\" class=\"dataframe\">\n  <thead>\n    <tr style=\"text-align: right;\">\n      <th></th>\n      <th>operation_date</th>\n      <th>operation_sum</th>\n      <th>document_number</th>\n      <th>reason</th>\n      <th>decision_number</th>\n    </tr>\n  </thead>\n  <tbody>\n    <tr>\n      <th>0</th>\n      <td>2020-12-18</td>\n      <td>4569.08</td>\n      <td>2179</td>\n      <td>По решению о взыскании № 685 от 11.12.2020 на ...</td>\n      <td>685</td>\n    </tr>\n    <tr>\n      <th>1</th>\n      <td>2020-12-18</td>\n      <td>8711.62</td>\n      <td>2177</td>\n      <td>По решению о взыскании № 685 от 11.12.2020 на ...</td>\n      <td>685</td>\n    </tr>\n    <tr>\n      <th>2</th>\n      <td>2020-12-18</td>\n      <td>15558.15</td>\n      <td>2179</td>\n      <td>По решению о взыскании № 685 от 11.12.2020 на ...</td>\n      <td>685</td>\n    </tr>\n    <tr>\n      <th>3</th>\n      <td>2020-12-18</td>\n      <td>122143.06</td>\n      <td>2179</td>\n      <td>По решению о взыскании № 685 от 11.12.2020 на ...</td>\n      <td>685</td>\n    </tr>\n    <tr>\n      <th>4</th>\n      <td>2020-12-19</td>\n      <td>30006.15</td>\n      <td>2179</td>\n      <td>По решению о взыскании № 685 от 11.12.2020 на ...</td>\n      <td>685</td>\n    </tr>\n    <tr>\n      <th>...</th>\n      <td>...</td>\n      <td>...</td>\n      <td>...</td>\n      <td>...</td>\n      <td>...</td>\n    </tr>\n    <tr>\n      <th>633</th>\n      <td>2022-11-24</td>\n      <td>5509.11</td>\n      <td>12790</td>\n      <td>По решению о взыскании № 2820 от 29.03.2022 на...</td>\n      <td>2820</td>\n    </tr>\n    <tr>\n      <th>631</th>\n      <td>2022-11-24</td>\n      <td>216.64</td>\n      <td>12790</td>\n      <td>По решению о взыскании № 2820 от 29.03.2022 на...</td>\n      <td>2820</td>\n    </tr>\n    <tr>\n      <th>634</th>\n      <td>2022-11-24</td>\n      <td>39531.47</td>\n      <td>12790</td>\n      <td>По решению о взыскании № 2820 от 29.03.2022 на...</td>\n      <td>2820</td>\n    </tr>\n    <tr>\n      <th>635</th>\n      <td>2022-11-25</td>\n      <td>3643.84</td>\n      <td>12790</td>\n      <td>По решению о взыскании № 2820 от 29.03.2022 на...</td>\n      <td>2820</td>\n    </tr>\n    <tr>\n      <th>636</th>\n      <td>2022-11-25</td>\n      <td>40321.11</td>\n      <td>12790</td>\n      <td>По решению о взыскании № 2820 от 29.03.2022 на...</td>\n      <td>2820</td>\n    </tr>\n  </tbody>\n</table>\n<p>637 rows × 5 columns</p>\n</div>"
     },
     "execution_count": 85,
     "metadata": {},
     "output_type": "execute_result"
    }
   ],
   "source": [
    "sber._operations"
   ],
   "metadata": {
    "collapsed": false
   }
  },
  {
   "cell_type": "markdown",
   "source": [],
   "metadata": {
    "collapsed": false
   }
  },
  {
   "cell_type": "code",
   "execution_count": 94,
   "outputs": [
    {
     "data": {
      "text/plain": "                                 operation_sum\ndecision_number document_number               \n1061            3188                    492.03\n                3189                 192954.00\n1133            4797                  19086.16\n                4798                   2500.83\n                4799                   4424.52\n...                                        ...\n8785            35659                 21567.00\n                35660                 25797.47\n                35661                  3298.69\n                35662                  5980.32\n                35663                   129.05\n\n[108 rows x 1 columns]",
      "text/html": "<div>\n<style scoped>\n    .dataframe tbody tr th:only-of-type {\n        vertical-align: middle;\n    }\n\n    .dataframe tbody tr th {\n        vertical-align: top;\n    }\n\n    .dataframe thead th {\n        text-align: right;\n    }\n</style>\n<table border=\"1\" class=\"dataframe\">\n  <thead>\n    <tr style=\"text-align: right;\">\n      <th></th>\n      <th></th>\n      <th>operation_sum</th>\n    </tr>\n    <tr>\n      <th>decision_number</th>\n      <th>document_number</th>\n      <th></th>\n    </tr>\n  </thead>\n  <tbody>\n    <tr>\n      <th rowspan=\"2\" valign=\"top\">1061</th>\n      <th>3188</th>\n      <td>492.03</td>\n    </tr>\n    <tr>\n      <th>3189</th>\n      <td>192954.00</td>\n    </tr>\n    <tr>\n      <th rowspan=\"3\" valign=\"top\">1133</th>\n      <th>4797</th>\n      <td>19086.16</td>\n    </tr>\n    <tr>\n      <th>4798</th>\n      <td>2500.83</td>\n    </tr>\n    <tr>\n      <th>4799</th>\n      <td>4424.52</td>\n    </tr>\n    <tr>\n      <th>...</th>\n      <th>...</th>\n      <td>...</td>\n    </tr>\n    <tr>\n      <th rowspan=\"5\" valign=\"top\">8785</th>\n      <th>35659</th>\n      <td>21567.00</td>\n    </tr>\n    <tr>\n      <th>35660</th>\n      <td>25797.47</td>\n    </tr>\n    <tr>\n      <th>35661</th>\n      <td>3298.69</td>\n    </tr>\n    <tr>\n      <th>35662</th>\n      <td>5980.32</td>\n    </tr>\n    <tr>\n      <th>35663</th>\n      <td>129.05</td>\n    </tr>\n  </tbody>\n</table>\n<p>108 rows × 1 columns</p>\n</div>"
     },
     "execution_count": 94,
     "metadata": {},
     "output_type": "execute_result"
    }
   ],
   "source": [
    "sber._operations.groupby(by=['decision_number', 'document_number', ]).sum(numeric_only=True)\n"
   ],
   "metadata": {
    "collapsed": false
   }
  },
  {
   "cell_type": "code",
   "execution_count": 101,
   "outputs": [
    {
     "name": "stderr",
     "output_type": "stream",
     "text": [
      "WARNING:root:Успех: документ №2179 содержит 1 решений: ['685']\n",
      "WARNING:root:Успех: документ №2177 содержит 1 решений: ['685']\n",
      "WARNING:root:Успех: документ №2178 содержит 1 решений: ['685']\n",
      "WARNING:root:Успех: документ №2180 содержит 1 решений: ['685']\n",
      "WARNING:root:Успех: документ №3352 содержит 1 решений: ['822']\n",
      "WARNING:root:Успех: документ №4811 содержит 1 решений: ['1133']\n",
      "WARNING:root:Успех: документ №3351 содержит 1 решений: ['822']\n",
      "WARNING:root:Успех: документ №4808 содержит 1 решений: ['1133']\n",
      "WARNING:root:Успех: документ №4797 содержит 1 решений: ['1133']\n",
      "WARNING:root:Успех: документ №4802 содержит 1 решений: ['1133']\n",
      "WARNING:root:Успех: документ №4801 содержит 1 решений: ['1133']\n",
      "WARNING:root:Успех: документ №4807 содержит 1 решений: ['1133']\n",
      "WARNING:root:Успех: документ №4812 содержит 1 решений: ['1133']\n",
      "WARNING:root:Успех: документ №4800 содержит 1 решений: ['1133']\n",
      "WARNING:root:Успех: документ №4803 содержит 1 решений: ['1133']\n",
      "WARNING:root:Успех: документ №4798 содержит 1 решений: ['1133']\n",
      "WARNING:root:Успех: документ №4799 содержит 1 решений: ['1133']\n",
      "WARNING:root:Успех: документ №4810 содержит 1 решений: ['1133']\n",
      "WARNING:root:Успех: документ №4806 содержит 1 решений: ['1133']\n",
      "WARNING:root:Успех: документ №4805 содержит 1 решений: ['1133']\n",
      "WARNING:root:Успех: документ №4809 содержит 1 решений: ['1133']\n",
      "WARNING:root:Успех: документ №367 содержит 1 решений: ['120']\n",
      "WARNING:root:Успех: документ №366 содержит 1 решений: ['120']\n",
      "WARNING:root:Успех: документ №3188 содержит 1 решений: ['1061']\n",
      "WARNING:root:Успех: документ №3189 содержит 1 решений: ['1061']\n",
      "WARNING:root:Успех: документ №6354 содержит 1 решений: ['1854']\n",
      "WARNING:root:Успех: документ №6355 содержит 1 решений: ['1854']\n",
      "WARNING:root:Успех: документ №6358 содержит 1 решений: ['1854']\n",
      "WARNING:root:Успех: документ №6360 содержит 1 решений: ['1854']\n",
      "WARNING:root:Успех: документ №6370 содержит 1 решений: ['1854']\n",
      "WARNING:root:Успех: документ №6353 содержит 1 решений: ['1854']\n",
      "WARNING:root:Успех: документ №6366 содержит 1 решений: ['1854']\n",
      "WARNING:root:Успех: документ №6367 содержит 1 решений: ['1854']\n",
      "WARNING:root:Успех: документ №6352 содержит 1 решений: ['1854']\n",
      "WARNING:root:Успех: документ №6371 содержит 1 решений: ['1854']\n",
      "WARNING:root:Успех: документ №6365 содержит 1 решений: ['1854']\n",
      "WARNING:root:Успех: документ №6359 содержит 1 решений: ['1854']\n",
      "WARNING:root:Успех: документ №6362 содержит 1 решений: ['1854']\n",
      "WARNING:root:Успех: документ №6357 содержит 1 решений: ['1854']\n",
      "WARNING:root:Успех: документ №6356 содержит 1 решений: ['1854']\n",
      "WARNING:root:Успех: документ №6361 содержит 1 решений: ['1854']\n",
      "WARNING:root:Успех: документ №6368 содержит 1 решений: ['1854']\n",
      "WARNING:root:Успех: документ №6350 содержит 1 решений: ['1854']\n",
      "WARNING:root:Успех: документ №6364 содержит 1 решений: ['1854']\n",
      "WARNING:root:Успех: документ №6363 содержит 1 решений: ['1854']\n",
      "WARNING:root:Успех: документ №29428 содержит 1 решений: ['7310']\n",
      "WARNING:root:Успех: документ №29421 содержит 1 решений: ['7310']\n",
      "WARNING:root:Успех: документ №29416 содержит 1 решений: ['7310']\n",
      "WARNING:root:Успех: документ №29427 содержит 1 решений: ['7310']\n",
      "WARNING:root:Успех: документ №29430 содержит 1 решений: ['7310']\n",
      "WARNING:root:Успех: документ №29418 содержит 1 решений: ['7310']\n",
      "WARNING:root:Успех: документ №29417 содержит 1 решений: ['7310']\n",
      "WARNING:root:Успех: документ №29420 содержит 1 решений: ['7310']\n",
      "WARNING:root:Успех: документ №29425 содержит 1 решений: ['7310']\n",
      "WARNING:root:Успех: документ №29422 содержит 1 решений: ['7310']\n",
      "WARNING:root:Успех: документ №29424 содержит 1 решений: ['7310']\n",
      "WARNING:root:Успех: документ №29419 содержит 1 решений: ['7310']\n",
      "WARNING:root:Успех: документ №29423 содержит 1 решений: ['7310']\n",
      "WARNING:root:Успех: документ №29426 содержит 1 решений: ['7310']\n",
      "WARNING:root:Успех: документ №29429 содержит 1 решений: ['7310']\n",
      "WARNING:root:Успех: документ №35655 содержит 1 решений: ['8785']\n",
      "WARNING:root:Успех: документ №35661 содержит 1 решений: ['8785']\n",
      "WARNING:root:Успех: документ №35657 содержит 1 решений: ['8785']\n",
      "WARNING:root:Успех: документ №35649 содержит 1 решений: ['8785']\n",
      "WARNING:root:Успех: документ №35648 содержит 1 решений: ['8785']\n",
      "WARNING:root:Успех: документ №35651 содержит 1 решений: ['8785']\n",
      "WARNING:root:Успех: документ №35662 содержит 1 решений: ['8785']\n",
      "WARNING:root:Успех: документ №35659 содержит 1 решений: ['8785']\n",
      "WARNING:root:Успех: документ №35660 содержит 1 решений: ['8785']\n",
      "WARNING:root:Успех: документ №35652 содержит 1 решений: ['8785']\n",
      "WARNING:root:Успех: документ №35663 содержит 1 решений: ['8785']\n",
      "WARNING:root:Успех: документ №35656 содержит 1 решений: ['8785']\n",
      "WARNING:root:Успех: документ №35653 содержит 1 решений: ['8785']\n",
      "WARNING:root:Успех: документ №35650 содержит 1 решений: ['8785']\n",
      "WARNING:root:Успех: документ №35654 содержит 1 решений: ['8785']\n",
      "WARNING:root:Успех: документ №35658 содержит 1 решений: ['8785']\n",
      "WARNING:root:Успех: документ №35647 содержит 1 решений: ['8785']\n",
      "WARNING:root:Успех: документ №1214 содержит 1 решений: ['341']\n",
      "WARNING:root:Успех: документ №8450 содержит 1 решений: ['2137']\n",
      "WARNING:root:Успех: документ №8445 содержит 1 решений: ['2137']\n",
      "WARNING:root:Успех: документ №8454 содержит 1 решений: ['2137']\n",
      "WARNING:root:Успех: документ №8462 содержит 1 решений: ['2137']\n",
      "WARNING:root:Успех: документ №8457 содержит 1 решений: ['2137']\n",
      "WARNING:root:Успех: документ №8449 содержит 1 решений: ['2137']\n",
      "WARNING:root:Успех: документ №8459 содержит 1 решений: ['2137']\n",
      "WARNING:root:Успех: документ №8458 содержит 1 решений: ['2137']\n",
      "WARNING:root:Успех: документ №8452 содержит 1 решений: ['2137']\n",
      "WARNING:root:Успех: документ №8456 содержит 1 решений: ['2137']\n",
      "WARNING:root:Успех: документ №8460 содержит 1 решений: ['2137']\n",
      "WARNING:root:Успех: документ №8461 содержит 1 решений: ['2137']\n",
      "WARNING:root:Успех: документ №8451 содержит 1 решений: ['2137']\n",
      "WARNING:root:Успех: документ №8447 содержит 1 решений: ['2137']\n",
      "WARNING:root:Успех: документ №8446 содержит 1 решений: ['2137']\n",
      "WARNING:root:Успех: документ №8455 содержит 1 решений: ['2137']\n",
      "WARNING:root:Успех: документ №8448 содержит 1 решений: ['2137']\n",
      "WARNING:root:Успех: документ №8453 содержит 1 решений: ['2137']\n",
      "WARNING:root:Успех: документ №12795 содержит 1 решений: ['2820']\n",
      "WARNING:root:Успех: документ №12789 содержит 1 решений: ['2820']\n",
      "WARNING:root:Успех: документ №12784 содержит 1 решений: ['2820']\n",
      "WARNING:root:Успех: документ №12783 содержит 1 решений: ['2820']\n",
      "WARNING:root:Успех: документ №12785 содержит 1 решений: ['2820']\n",
      "WARNING:root:Успех: документ №12788 содержит 1 решений: ['2820']\n",
      "WARNING:root:Успех: документ №12792 содержит 1 решений: ['2820']\n",
      "WARNING:root:Успех: документ №12786 содержит 1 решений: ['2820']\n",
      "WARNING:root:Успех: документ №12794 содержит 1 решений: ['2820']\n",
      "WARNING:root:Успех: документ №12791 содержит 1 решений: ['2820']\n",
      "WARNING:root:Успех: документ №12793 содержит 1 решений: ['2820']\n",
      "WARNING:root:Успех: документ №12790 содержит 1 решений: ['2820']\n"
     ]
    }
   ],
   "source": [
    "# Проверяем может ли к одному платежному документу относится два решения\n",
    "\n",
    "payment_docs = sber._operations.document_number.unique()\n",
    "\n",
    "for doc in payment_docs:\n",
    "    unique_list = sber._operations[sber._operations['document_number'] == doc]['decision_number'].unique()\n",
    "    decision_count = len(unique_list)\n",
    "    if decision_count > 1:\n",
    "        logging.warning(f'Найдена проблема: документ №{doc} содержит {decision_count} решений')\n",
    "    else:\n",
    "        logging.warning(f'Успех: документ №{doc} содержит {decision_count} решений: {unique_list}')"
   ],
   "metadata": {
    "collapsed": false
   }
  },
  {
   "cell_type": "code",
   "execution_count": null,
   "outputs": [],
   "source": [],
   "metadata": {
    "collapsed": false
   }
  }
 ],
 "metadata": {
  "kernelspec": {
   "display_name": "Python 3",
   "language": "python",
   "name": "python3"
  },
  "language_info": {
   "codemirror_mode": {
    "name": "ipython",
    "version": 2
   },
   "file_extension": ".py",
   "mimetype": "text/x-python",
   "name": "python",
   "nbconvert_exporter": "python",
   "pygments_lexer": "ipython2",
   "version": "2.7.6"
  }
 },
 "nbformat": 4,
 "nbformat_minor": 0
}

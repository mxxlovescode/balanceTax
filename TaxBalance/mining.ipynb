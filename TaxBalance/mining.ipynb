{
 "cells": [
  {
   "cell_type": "markdown",
   "source": [
    "Главная задача:\n",
    "1) Выиграть время до банкротства. (По налогам год-полтора + .5 млн расходов)\n",
    "- Сколько текущая задолженность.\n",
    "    - По данным УФНС (на ноябрь 2022) задолженность: 4,5 (без 2 квартала + 1,5). Если убрать доначисления.\n",
    "        - Смоделировать по текущий день (это неделя).\n",
    "        - Прикинуть по текущий день (час-два).\n",
    "2) По возможности выйти за 2.250.\n",
    "- Возможно сравнивать именно задолженность по требованиям.\n",
    "    - Узнать, есть ли 4 квартал (по когда?)\n",
    "- Есть еще неразнесенные документы спорного периода, на 400 тыс.\n",
    "\n"
   ],
   "metadata": {
    "collapsed": false
   }
  },
  {
   "cell_type": "code",
   "execution_count": 11,
   "outputs": [
    {
     "name": "stderr",
     "output_type": "stream",
     "text": [
      "/home/mt/PycharmProjects/balanceTax/venv/lib/python3.8/site-packages/openpyxl/styles/stylesheet.py:226: UserWarning: Workbook contains no default style, apply openpyxl's default\n",
      "  warn(\"Workbook contains no default style, apply openpyxl's default\")\n",
      "2023-04-06 20:06:24 INFO:Загрузка файла завершена. В платежах содержится 65 операций.\n",
      "2023-04-06 20:06:24 INFO:Загрузка файла завершена. В платежах содержится 326 операций.\n",
      "/home/mt/PycharmProjects/balanceTax/venv/lib/python3.8/site-packages/openpyxl/styles/stylesheet.py:226: UserWarning: Workbook contains no default style, apply openpyxl's default\n",
      "  warn(\"Workbook contains no default style, apply openpyxl's default\")\n",
      "2023-04-06 20:06:24 INFO:Загрузка файла завершена. В платежах содержится 637 операций.\n",
      "2023-04-06 20:06:25 INFO:Загрузка файла завершена. В балансе содержится 816 операций.\n",
      "2023-04-06 20:06:26 INFO:Загрузка файла завершена. В балансе содержится 1729 операций.\n",
      "2023-04-06 20:06:27 INFO:Загрузка файла завершена. В балансе содержится 2493 операций.\n"
     ]
    }
   ],
   "source": [
    "from importlib import reload\n",
    "import logging\n",
    "\n",
    "import pandas as pd\n",
    "\n",
    "import import_excel, views\n",
    "\n",
    "reload(logging)\n",
    "reload(import_excel)\n",
    "reload(views)\n",
    "\n",
    "logging.basicConfig(level=logging.INFO,\n",
    "                    format='%(asctime)s %(levelname)s:%(message)s',\n",
    "                    datefmt='%Y-%m-%d %H:%M:%S')\n",
    "pd.set_option('display.max_rows', 1000)\n",
    "\n",
    "view = views.UFNSView()\n"
   ],
   "metadata": {
    "collapsed": false
   }
  },
  {
   "cell_type": "code",
   "execution_count": 13,
   "outputs": [
    {
     "data": {
      "text/plain": "datetime.date(2022, 11, 25)"
     },
     "execution_count": 13,
     "metadata": {},
     "output_type": "execute_result"
    }
   ],
   "source": [
    "\"\"\" Прикинуть в общих числах, задолженность на сейчас\n",
    "\n",
    "Алгоритм\n",
    "Налоги[на последнее число операций.] - Берем из УФНС\n",
    "\n",
    "+ банковские платежи - берем сразу из базы\n",
    "    + 3543917.07 - Арест и Взыскание в Банке\n",
    "\n",
    "- начисления 4, 1 квартала.\n",
    "\n",
    "\"\"\"\n",
    "df = view.df\n",
    "last_day_operation = df.operation_date.iloc[-1]\n",
    "tax_balance_last_day = view.model_balance().balance.sum()\n",
    "\n",
    "view.sber.operation_date.iloc[-1]\n"
   ],
   "metadata": {
    "collapsed": false
   }
  },
  {
   "cell_type": "code",
   "execution_count": null,
   "outputs": [],
   "source": [],
   "metadata": {
    "collapsed": false
   }
  }
 ],
 "metadata": {
  "kernelspec": {
   "display_name": "Python 3",
   "language": "python",
   "name": "python3"
  },
  "language_info": {
   "codemirror_mode": {
    "name": "ipython",
    "version": 2
   },
   "file_extension": ".py",
   "mimetype": "text/x-python",
   "name": "python",
   "nbconvert_exporter": "python",
   "pygments_lexer": "ipython2",
   "version": "2.7.6"
  }
 },
 "nbformat": 4,
 "nbformat_minor": 0
}
